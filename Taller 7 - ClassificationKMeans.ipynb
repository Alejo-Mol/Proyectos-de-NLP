{
 "cells": [
  {
   "cell_type": "markdown",
   "metadata": {},
   "source": [
    "<img src='https://encrypted-tbn0.gstatic.com/images?q=tbn%3AANd9GcQ-VfNtOyJbsaxu43Kztf_cv1mgBG6ZIQZEVw&usqp=CAU'>\n",
    "\n",
    "# Procesamiento de Lenguage Natural\n",
    "\n",
    "## Taller #7: Clasificación y Agrupación\n",
    "`Fecha de entrega: Octubre 24, 2020. (Antes del inicio de la próxima clase).`\n",
    "\n",
    "`Modo de entrega: Subir link de GitHub al aula virtual.`"
   ]
  },
  {
   "cell_type": "code",
   "execution_count": 1,
   "metadata": {},
   "outputs": [],
   "source": [
    "import re\n",
    "import json\n",
    "import pandas as pd\n",
    "\n",
    "from nltk.corpus import stopwords\n",
    "from sklearn.model_selection import train_test_split\n",
    "from sklearn.feature_extraction.text import TfidfVectorizer\n",
    "\n",
    "from sklearn.linear_model import LogisticRegression\n",
    "\n",
    "from sklearn.metrics import accuracy_score, f1_score\n",
    "from sklearn.metrics import precision_score, recall_score\n",
    "from sklearn.metrics import confusion_matrix, classification_report\n",
    "\n",
    "import matplotlib.pyplot as plt\n",
    "from sklearn.metrics import plot_confusion_matrix\n",
    "\n",
    "from sklearn.neighbors import NearestNeighbors\n",
    "from sklearn.cluster import KMeans\n",
    "from sklearn.decomposition import PCA\n",
    "\n",
    "import matplotlib.pyplot as plt\n",
    "import plotly.graph_objs as go\n",
    "from plotly.offline import iplot"
   ]
  },
  {
   "cell_type": "code",
   "execution_count": 2,
   "metadata": {},
   "outputs": [
    {
     "data": {
      "text/html": [
       "<div>\n",
       "<style scoped>\n",
       "    .dataframe tbody tr th:only-of-type {\n",
       "        vertical-align: middle;\n",
       "    }\n",
       "\n",
       "    .dataframe tbody tr th {\n",
       "        vertical-align: top;\n",
       "    }\n",
       "\n",
       "    .dataframe thead th {\n",
       "        text-align: right;\n",
       "    }\n",
       "</style>\n",
       "<table border=\"1\" class=\"dataframe\">\n",
       "  <thead>\n",
       "    <tr style=\"text-align: right;\">\n",
       "      <th></th>\n",
       "      <th>review_id</th>\n",
       "      <th>product_id</th>\n",
       "      <th>reviewer_id</th>\n",
       "      <th>stars</th>\n",
       "      <th>review_body</th>\n",
       "      <th>review_title</th>\n",
       "      <th>language</th>\n",
       "      <th>product_category</th>\n",
       "    </tr>\n",
       "  </thead>\n",
       "  <tbody>\n",
       "    <tr>\n",
       "      <td>0</td>\n",
       "      <td>es_0825565</td>\n",
       "      <td>product_es_0370490</td>\n",
       "      <td>reviewer_es_0174781</td>\n",
       "      <td>3</td>\n",
       "      <td>Buen. Buena calidad, y buena presentación.</td>\n",
       "      <td>Contenta</td>\n",
       "      <td>es</td>\n",
       "      <td>jewelry</td>\n",
       "    </tr>\n",
       "    <tr>\n",
       "      <td>1</td>\n",
       "      <td>es_0227934</td>\n",
       "      <td>product_es_0354224</td>\n",
       "      <td>reviewer_es_0411613</td>\n",
       "      <td>3</td>\n",
       "      <td>Un producto a perfecto, para salir de casa con...</td>\n",
       "      <td>Versatilidad</td>\n",
       "      <td>es</td>\n",
       "      <td>video_games</td>\n",
       "    </tr>\n",
       "    <tr>\n",
       "      <td>2</td>\n",
       "      <td>es_0468601</td>\n",
       "      <td>product_es_0665460</td>\n",
       "      <td>reviewer_es_0348315</td>\n",
       "      <td>1</td>\n",
       "      <td>No funciona con Nintendo Switch. No hay forma ...</td>\n",
       "      <td>Decepción absoluta</td>\n",
       "      <td>es</td>\n",
       "      <td>video_games</td>\n",
       "    </tr>\n",
       "    <tr>\n",
       "      <td>3</td>\n",
       "      <td>es_0814494</td>\n",
       "      <td>product_es_0692692</td>\n",
       "      <td>reviewer_es_0951508</td>\n",
       "      <td>5</td>\n",
       "      <td>Recomendado, los utilizo para pc y no me dan n...</td>\n",
       "      <td>Auriculares Pecham ps4</td>\n",
       "      <td>es</td>\n",
       "      <td>video_games</td>\n",
       "    </tr>\n",
       "    <tr>\n",
       "      <td>4</td>\n",
       "      <td>es_0206329</td>\n",
       "      <td>product_es_0728826</td>\n",
       "      <td>reviewer_es_0493255</td>\n",
       "      <td>4</td>\n",
       "      <td>El cable funciona bien podria ser un poco mas ...</td>\n",
       "      <td>Perfecto</td>\n",
       "      <td>es</td>\n",
       "      <td>video_games</td>\n",
       "    </tr>\n",
       "  </tbody>\n",
       "</table>\n",
       "</div>"
      ],
      "text/plain": [
       "    review_id          product_id          reviewer_id  stars  \\\n",
       "0  es_0825565  product_es_0370490  reviewer_es_0174781      3   \n",
       "1  es_0227934  product_es_0354224  reviewer_es_0411613      3   \n",
       "2  es_0468601  product_es_0665460  reviewer_es_0348315      1   \n",
       "3  es_0814494  product_es_0692692  reviewer_es_0951508      5   \n",
       "4  es_0206329  product_es_0728826  reviewer_es_0493255      4   \n",
       "\n",
       "                                         review_body            review_title  \\\n",
       "0         Buen. Buena calidad, y buena presentación.                Contenta   \n",
       "1  Un producto a perfecto, para salir de casa con...            Versatilidad   \n",
       "2  No funciona con Nintendo Switch. No hay forma ...      Decepción absoluta   \n",
       "3  Recomendado, los utilizo para pc y no me dan n...  Auriculares Pecham ps4   \n",
       "4  El cable funciona bien podria ser un poco mas ...                Perfecto   \n",
       "\n",
       "  language product_category  \n",
       "0       es          jewelry  \n",
       "1       es      video_games  \n",
       "2       es      video_games  \n",
       "3       es      video_games  \n",
       "4       es      video_games  "
      ]
     },
     "execution_count": 2,
     "metadata": {},
     "output_type": "execute_result"
    }
   ],
   "source": [
    "# Cargar datos\n",
    "path = 'reviews_vidjew_es.csv'\n",
    "data = pd.read_csv(path)\n",
    "data.head()\n",
    "#Solo necesito tomar review_body y product_category"
   ]
  },
  {
   "cell_type": "code",
   "execution_count": 6,
   "metadata": {},
   "outputs": [
    {
     "data": {
      "text/html": [
       "<div>\n",
       "<style scoped>\n",
       "    .dataframe tbody tr th:only-of-type {\n",
       "        vertical-align: middle;\n",
       "    }\n",
       "\n",
       "    .dataframe tbody tr th {\n",
       "        vertical-align: top;\n",
       "    }\n",
       "\n",
       "    .dataframe thead th {\n",
       "        text-align: right;\n",
       "    }\n",
       "</style>\n",
       "<table border=\"1\" class=\"dataframe\">\n",
       "  <thead>\n",
       "    <tr style=\"text-align: right;\">\n",
       "      <th></th>\n",
       "      <th>review_body</th>\n",
       "      <th>product_category</th>\n",
       "    </tr>\n",
       "  </thead>\n",
       "  <tbody>\n",
       "    <tr>\n",
       "      <td>0</td>\n",
       "      <td>Buen. Buena calidad, y buena presentación.</td>\n",
       "      <td>jewelry</td>\n",
       "    </tr>\n",
       "    <tr>\n",
       "      <td>1</td>\n",
       "      <td>Un producto a perfecto, para salir de casa con...</td>\n",
       "      <td>video_games</td>\n",
       "    </tr>\n",
       "    <tr>\n",
       "      <td>2</td>\n",
       "      <td>No funciona con Nintendo Switch. No hay forma ...</td>\n",
       "      <td>video_games</td>\n",
       "    </tr>\n",
       "    <tr>\n",
       "      <td>3</td>\n",
       "      <td>Recomendado, los utilizo para pc y no me dan n...</td>\n",
       "      <td>video_games</td>\n",
       "    </tr>\n",
       "    <tr>\n",
       "      <td>4</td>\n",
       "      <td>El cable funciona bien podria ser un poco mas ...</td>\n",
       "      <td>video_games</td>\n",
       "    </tr>\n",
       "  </tbody>\n",
       "</table>\n",
       "</div>"
      ],
      "text/plain": [
       "                                         review_body product_category\n",
       "0         Buen. Buena calidad, y buena presentación.          jewelry\n",
       "1  Un producto a perfecto, para salir de casa con...      video_games\n",
       "2  No funciona con Nintendo Switch. No hay forma ...      video_games\n",
       "3  Recomendado, los utilizo para pc y no me dan n...      video_games\n",
       "4  El cable funciona bien podria ser un poco mas ...      video_games"
      ]
     },
     "execution_count": 6,
     "metadata": {},
     "output_type": "execute_result"
    }
   ],
   "source": [
    "data1 =data.filter([\"review_body\",\"product_category\"])\n",
    "data1.head()"
   ]
  },
  {
   "cell_type": "code",
   "execution_count": 43,
   "metadata": {},
   "outputs": [
    {
     "data": {
      "text/plain": [
       "jewelry        502\n",
       "video_games    498\n",
       "Name: product_category, dtype: int64"
      ]
     },
     "execution_count": 43,
     "metadata": {},
     "output_type": "execute_result"
    }
   ],
   "source": [
    "data.product_category.value_counts()"
   ]
  },
  {
   "cell_type": "markdown",
   "metadata": {},
   "source": [
    "# Parte 1: Clasificación"
   ]
  },
  {
   "cell_type": "markdown",
   "metadata": {},
   "source": [
    "### `[6 pts]` Punto 1: Dividir el conjunto de datos en entrenamiento y prueba"
   ]
  },
  {
   "cell_type": "code",
   "execution_count": 7,
   "metadata": {},
   "outputs": [
    {
     "name": "stdout",
     "output_type": "stream",
     "text": [
      "El conjunto de datos de entrenamiento tiene 800 registros\n",
      "El conjunto de datos de prueba tiene 200 registros\n"
     ]
    }
   ],
   "source": [
    "train, test = train_test_split(data1, test_size=0.2, random_state=42)\n",
    " \n",
    "print(f\"El conjunto de datos de entrenamiento tiene {train.shape[0]} registros\")\n",
    "print(f\"El conjunto de datos de prueba tiene {test.shape[0]} registros\")"
   ]
  },
  {
   "cell_type": "code",
   "execution_count": 14,
   "metadata": {},
   "outputs": [
    {
     "data": {
      "text/plain": [
       "Index(['review_body', 'product_category'], dtype='object')"
      ]
     },
     "execution_count": 14,
     "metadata": {},
     "output_type": "execute_result"
    }
   ],
   "source": [
    "train.columns"
   ]
  },
  {
   "cell_type": "markdown",
   "metadata": {},
   "source": [
    "###  `[6 pts]` Punto 2: Hacer pre-procesamiento del texto"
   ]
  },
  {
   "cell_type": "code",
   "execution_count": 9,
   "metadata": {},
   "outputs": [],
   "source": [
    "stopwords_sp = stopwords.words('spanish')\n",
    "\n",
    "def pre_procesado(texto):\n",
    "    texto = texto.lower()\n",
    "    texto = re.sub(r\"[\\W\\d_]+\", \" \", texto)\n",
    "    texto = \" \".join([palabra for palabra in texto.split() if palabra not in stopwords_sp])\n",
    "    return texto\n",
    "\n",
    "tfidf_vect = TfidfVectorizer(preprocessor=pre_procesado)"
   ]
  },
  {
   "cell_type": "code",
   "execution_count": 15,
   "metadata": {},
   "outputs": [],
   "source": [
    "X_train = tfidf_vect.fit_transform(train.review_body.values)\n",
    "y_train = train.product_category.values\n",
    " \n",
    "X_test = tfidf_vect.transform(test.review_body.values)\n",
    "y_test = test.product_category.values"
   ]
  },
  {
   "cell_type": "code",
   "execution_count": 40,
   "metadata": {},
   "outputs": [
    {
     "data": {
      "text/plain": [
       "<800x3221 sparse matrix of type '<class 'numpy.float64'>'\n",
       "\twith 9494 stored elements in Compressed Sparse Row format>"
      ]
     },
     "execution_count": 40,
     "metadata": {},
     "output_type": "execute_result"
    }
   ],
   "source": [
    "X_train"
   ]
  },
  {
   "cell_type": "raw",
   "metadata": {},
   "source": []
  },
  {
   "cell_type": "markdown",
   "metadata": {},
   "source": [
    "###  `[6 pts]` Punto 3: Entrenar el modelo\n",
    "Puedes escoger el que quieras: Regresión Logística, Naive-Bayes, SVM, u otro."
   ]
  },
  {
   "cell_type": "code",
   "execution_count": 17,
   "metadata": {},
   "outputs": [],
   "source": [
    "#Vamos a entrenar el modelo\n",
    "from sklearn.naive_bayes import MultinomialNB\n",
    "nb = MultinomialNB()\n",
    "nb.fit(X_train, y_train)\n",
    "y_pred_nb = nb.predict(X_test)"
   ]
  },
  {
   "cell_type": "markdown",
   "metadata": {},
   "source": [
    "###  `[6 pts]` Punto 4: Métricas de evaluación\n",
    "Exactitud, precisión y sensibilidad"
   ]
  },
  {
   "cell_type": "code",
   "execution_count": 18,
   "metadata": {},
   "outputs": [
    {
     "name": "stdout",
     "output_type": "stream",
     "text": [
      "Naive Bayes:            0.86\n"
     ]
    }
   ],
   "source": [
    "#Exactitud\n",
    "print(f\"Naive Bayes: {accuracy_score(y_test, y_pred_nb):>15.2f}\")"
   ]
  },
  {
   "cell_type": "code",
   "execution_count": 23,
   "metadata": {},
   "outputs": [
    {
     "name": "stdout",
     "output_type": "stream",
     "text": [
      "precision_score\n",
      "Naive Bayes:            0.94\n",
      "\n",
      "recall_score\n",
      "Naive Bayes:            0.79\n",
      "\n",
      "f1_score\n",
      "Naive Bayes:            0.86\n",
      "\n"
     ]
    }
   ],
   "source": [
    "metricas = [precision_score, recall_score, f1_score]\n",
    "for metrica in metricas:\n",
    "     print(metrica.__name__)\n",
    "     print(f\"Naive Bayes: {metrica(y_test, y_pred_nb, pos_label='video_games'):>15.2f}\")\n",
    "     print()"
   ]
  },
  {
   "cell_type": "markdown",
   "metadata": {},
   "source": [
    "###  `[BONUS: 3 pts]` Matriz de confusión"
   ]
  },
  {
   "cell_type": "code",
   "execution_count": 25,
   "metadata": {},
   "outputs": [
    {
     "data": {
      "text/plain": [
       "Text(0.5, 1.0, 'Naive Bayes')"
      ]
     },
     "execution_count": 25,
     "metadata": {},
     "output_type": "execute_result"
    },
    {
     "data": {
      "image/png": "[encoded data removed]",
      "text/plain": [
       "<Figure size 432x288 with 1 Axes>"
      ]
     },
     "metadata": {
      "needs_background": "light"
     },
     "output_type": "display_data"
    }
   ],
   "source": [
    "plot_confusion_matrix(nb, X_test, y_test, cmap = 'Blues').im_.colorbar.remove()\n",
    "plt.title(\"Naive Bayes\")"
   ]
  },
  {
   "cell_type": "markdown",
   "metadata": {},
   "source": [
    "###  `[BONUS: 1 pts]` Términos más importantes de cada categoría"
   ]
  },
  {
   "cell_type": "code",
   "execution_count": null,
   "metadata": {},
   "outputs": [],
   "source": []
  },
  {
   "cell_type": "code",
   "execution_count": null,
   "metadata": {},
   "outputs": [],
   "source": []
  },
  {
   "cell_type": "code",
   "execution_count": null,
   "metadata": {},
   "outputs": [],
   "source": []
  },
  {
   "cell_type": "markdown",
   "metadata": {},
   "source": [
    "# Parte 2: Agrupación"
   ]
  },
  {
   "cell_type": "markdown",
   "metadata": {},
   "source": [
    "###  `[6 pts]` Punto 1: Hacer pre-procesamiento del texto"
   ]
  },
  {
   "cell_type": "code",
   "execution_count": 26,
   "metadata": {},
   "outputs": [
    {
     "data": {
      "text/html": [
       "<div>\n",
       "<style scoped>\n",
       "    .dataframe tbody tr th:only-of-type {\n",
       "        vertical-align: middle;\n",
       "    }\n",
       "\n",
       "    .dataframe tbody tr th {\n",
       "        vertical-align: top;\n",
       "    }\n",
       "\n",
       "    .dataframe thead th {\n",
       "        text-align: right;\n",
       "    }\n",
       "</style>\n",
       "<table border=\"1\" class=\"dataframe\">\n",
       "  <thead>\n",
       "    <tr style=\"text-align: right;\">\n",
       "      <th></th>\n",
       "      <th>review_id</th>\n",
       "      <th>product_id</th>\n",
       "      <th>reviewer_id</th>\n",
       "      <th>stars</th>\n",
       "      <th>review_body</th>\n",
       "      <th>review_title</th>\n",
       "      <th>language</th>\n",
       "      <th>product_category</th>\n",
       "    </tr>\n",
       "  </thead>\n",
       "  <tbody>\n",
       "    <tr>\n",
       "      <td>0</td>\n",
       "      <td>es_0825565</td>\n",
       "      <td>product_es_0370490</td>\n",
       "      <td>reviewer_es_0174781</td>\n",
       "      <td>3</td>\n",
       "      <td>Buen. Buena calidad, y buena presentación.</td>\n",
       "      <td>Contenta</td>\n",
       "      <td>es</td>\n",
       "      <td>jewelry</td>\n",
       "    </tr>\n",
       "    <tr>\n",
       "      <td>1</td>\n",
       "      <td>es_0227934</td>\n",
       "      <td>product_es_0354224</td>\n",
       "      <td>reviewer_es_0411613</td>\n",
       "      <td>3</td>\n",
       "      <td>Un producto a perfecto, para salir de casa con...</td>\n",
       "      <td>Versatilidad</td>\n",
       "      <td>es</td>\n",
       "      <td>video_games</td>\n",
       "    </tr>\n",
       "    <tr>\n",
       "      <td>2</td>\n",
       "      <td>es_0468601</td>\n",
       "      <td>product_es_0665460</td>\n",
       "      <td>reviewer_es_0348315</td>\n",
       "      <td>1</td>\n",
       "      <td>No funciona con Nintendo Switch. No hay forma ...</td>\n",
       "      <td>Decepción absoluta</td>\n",
       "      <td>es</td>\n",
       "      <td>video_games</td>\n",
       "    </tr>\n",
       "    <tr>\n",
       "      <td>3</td>\n",
       "      <td>es_0814494</td>\n",
       "      <td>product_es_0692692</td>\n",
       "      <td>reviewer_es_0951508</td>\n",
       "      <td>5</td>\n",
       "      <td>Recomendado, los utilizo para pc y no me dan n...</td>\n",
       "      <td>Auriculares Pecham ps4</td>\n",
       "      <td>es</td>\n",
       "      <td>video_games</td>\n",
       "    </tr>\n",
       "    <tr>\n",
       "      <td>4</td>\n",
       "      <td>es_0206329</td>\n",
       "      <td>product_es_0728826</td>\n",
       "      <td>reviewer_es_0493255</td>\n",
       "      <td>4</td>\n",
       "      <td>El cable funciona bien podria ser un poco mas ...</td>\n",
       "      <td>Perfecto</td>\n",
       "      <td>es</td>\n",
       "      <td>video_games</td>\n",
       "    </tr>\n",
       "  </tbody>\n",
       "</table>\n",
       "</div>"
      ],
      "text/plain": [
       "    review_id          product_id          reviewer_id  stars  \\\n",
       "0  es_0825565  product_es_0370490  reviewer_es_0174781      3   \n",
       "1  es_0227934  product_es_0354224  reviewer_es_0411613      3   \n",
       "2  es_0468601  product_es_0665460  reviewer_es_0348315      1   \n",
       "3  es_0814494  product_es_0692692  reviewer_es_0951508      5   \n",
       "4  es_0206329  product_es_0728826  reviewer_es_0493255      4   \n",
       "\n",
       "                                         review_body            review_title  \\\n",
       "0         Buen. Buena calidad, y buena presentación.                Contenta   \n",
       "1  Un producto a perfecto, para salir de casa con...            Versatilidad   \n",
       "2  No funciona con Nintendo Switch. No hay forma ...      Decepción absoluta   \n",
       "3  Recomendado, los utilizo para pc y no me dan n...  Auriculares Pecham ps4   \n",
       "4  El cable funciona bien podria ser un poco mas ...                Perfecto   \n",
       "\n",
       "  language product_category  \n",
       "0       es          jewelry  \n",
       "1       es      video_games  \n",
       "2       es      video_games  \n",
       "3       es      video_games  \n",
       "4       es      video_games  "
      ]
     },
     "execution_count": 26,
     "metadata": {},
     "output_type": "execute_result"
    }
   ],
   "source": [
    "# Cargar datos\n",
    "path = 'reviews_vidjew_es.csv'\n",
    "data = pd.read_csv(path)\n",
    "data.head()"
   ]
  },
  {
   "cell_type": "code",
   "execution_count": 36,
   "metadata": {},
   "outputs": [],
   "source": [
    "def pre_procesado(texto):\n",
    "    texto = texto.lower()\n",
    "    texto = re.sub(r\"[\\W\\d_]+\", \" \", texto)\n",
    "    texto = \" \".join([palabra for palabra in texto.split() if palabra not in stopwords_sp])\n",
    "    return texto\n",
    "\n",
    "tfidf_vect = TfidfVectorizer(preprocessor=pre_procesado)\n",
    "tfidf = tfidf_vect.fit_transform(data.review_body.values)\n",
    "tfidf_matrix = pd.DataFrame(tfidf.toarray(), columns=tfidf_vect.get_feature_names())"
   ]
  },
  {
   "cell_type": "markdown",
   "metadata": {},
   "source": [
    "###  `[6 pts]` Punto 2: Método del codo para determinar $K$"
   ]
  },
  {
   "cell_type": "code",
   "execution_count": 41,
   "metadata": {},
   "outputs": [
    {
     "data": {
      "text/plain": [
       "[<matplotlib.lines.Line2D at 0x160fcd7eb48>]"
      ]
     },
     "execution_count": 41,
     "metadata": {},
     "output_type": "execute_result"
    },
    {
     "data": {
      "image/png": "[encoded data removed]",
      "text/plain": [
       "<Figure size 432x288 with 1 Axes>"
      ]
     },
     "metadata": {
      "needs_background": "light"
     },
     "output_type": "display_data"
    }
   ],
   "source": [
    "ks = []\n",
    "k_inertia = [] \n",
    "\n",
    "for k in range(1,11):\n",
    "     kmeans = KMeans(n_clusters=k).fit(tfidf_matrix)\n",
    "     ks.append(k)\n",
    "     k_inertia.append(kmeans.inertia_)\n",
    "\n",
    "plt.xlabel('Número de cúmulos')\n",
    "plt.ylabel(\"Inercia\")\n",
    "plt.title(\"Método del codo\")\n",
    "plt.plot(ks, k_inertia, 'bx-')"
   ]
  },
  {
   "cell_type": "markdown",
   "metadata": {},
   "source": [
    "###  `[6 pts]` Punto 3: Entrenar modelo con el $K$ escogido"
   ]
  },
  {
   "cell_type": "code",
   "execution_count": 44,
   "metadata": {},
   "outputs": [],
   "source": [
    "k = 8\n",
    "model = KMeans(n_clusters=k)\n",
    "model.fit(tfidf_matrix)\n",
    "nbrs = NearestNeighbors(n_neighbors=3, metric=\"euclidean\").fit(tfidf_matrix.values)"
   ]
  },
  {
   "cell_type": "code",
   "execution_count": 49,
   "metadata": {},
   "outputs": [],
   "source": [
    "data['cluster'] = model.labels_\n",
    "clust_cnt = data['cluster'].value_counts()\n",
    "clust_cnt_pct = data['cluster'].value_counts(normalize=True)\n",
    "\n",
    "\n",
    "centroids = model.cluster_centers_\n",
    "order_centroids = model.cluster_centers_.argsort()[:, ::-1]\n",
    "terms = tfidf_vect.get_feature_names()\n"
   ]
  },
  {
   "cell_type": "code",
   "execution_count": 52,
   "metadata": {
    "scrolled": true
   },
   "outputs": [
    {
     "name": "stdout",
     "output_type": "stream",
     "text": [
      "[[2535 3378 1993 ... 2048  446  372]\n",
      " [1885 1324 1894 ...  259 1629  370]\n",
      " [ 350 1981 3413 ... 1269 1712  372]\n",
      " ...\n",
      " [2094 1339 2515 ... 1269 3525  259]\n",
      " [ 446  397  335 ... 1981 1746  372]\n",
      " [2673  446  397 ... 1990 1712  372]]\n"
     ]
    }
   ],
   "source": [
    "print(order_centroids)"
   ]
  },
  {
   "cell_type": "code",
   "execution_count": 57,
   "metadata": {},
   "outputs": [
    {
     "name": "stdout",
     "output_type": "stream",
     "text": [
      "Cluster 0\n",
      "COUNT  39 comments (3.90% of the data)\n",
      "TERMS  perfecto tiempo llegó gracias sido rápido producto poner justo castellano encanta opción switch descripción rapido igual tamaño éxito familia recomendable \n",
      "REPRESENTATIVE COMMENTS\n",
      "* Todo en perfecto estado\n",
      "* Perfecto y en tiempo\n",
      "* Llegó a tiempo y en perfecto estado\n",
      "\n",
      "\n",
      "Cluster 1\n",
      "COUNT  94 comments (9.40% of the data)\n",
      "TERMS  juego español jugar viene versión italiano si bien caja hijo buen pena divertido gran llegar gustado perfectamente ingles edición así \n",
      "REPRESENTATIVE COMMENTS\n",
      "* Esperaba más del juego.\n",
      "* No me ha gustado el juego.\n",
      "* Un juego para mi hijo. No se ha pasado mucho tiempo jugando con él. No puedo opinar mucho más sobre este juego.\n",
      "\n",
      "\n",
      "Cluster 2\n",
      "COUNT  109 comments (10.90% of the data)\n",
      "TERMS  bien llegado todavía producto cadena quedan buen queda regalo día aunque imagen demás recomiendo va funciona si aun llego ahora \n",
      "REPRESENTATIVE COMMENTS\n",
      "* Por el precio que tiene está muy bien\n",
      "* Está bien por su precio\n",
      "* Muy bien. Son bonitas y quedan bien.\n",
      "\n",
      "\n",
      "Cluster 3\n",
      "COUNT  462 comments (46.20% of the data)\n",
      "TERMS  producto si regalo día foto mando buen bonita solo plata pulsera llegó caja llego tiempo mal llega nunca bonitos compré \n",
      "REPRESENTATIVE COMMENTS\n",
      "* Fue para un regalo, le ha encantado y llegó de un día para otro.\n",
      "* Llega así tal se ve en la foto. Solo una pieza y parece usado. Nunca más.\n",
      "* Señores: Dos veces he comprado este producto y las dos veces una de las perlas de cada compra me ha venido rota.Por no perder tiempo porque mi señora le gustan mucho vuelvo a pedir otro par y este me viene igual.No quiero hacer ninguna critica adversa a su producto y por eso les envio la foto para que ustedes comprueben.Espero se les ocurra algo para no tener que devolver el producto.Gracias\n",
      "\n",
      "\n",
      "Cluster 4\n",
      "COUNT  59 comments (5.90% of the data)\n",
      "TERMS  bonito pequeño queda colgante plata tamaño collar bien regalo diseño calidad adecuado parece foto tal cadena gustado fotos tiempo abalorio \n",
      "REPRESENTATIVE COMMENTS\n",
      "* Algo pequeño, pero bonito\n",
      "* Bonito fue para un regalo y bien\n",
      "* Bonito y adecuado para lo que es\n",
      "\n",
      "\n",
      "Cluster 5\n",
      "COUNT  87 comments (8.70% of the data)\n",
      "TERMS  mas esperaba pequeños bonitos grandes demasiado bien pequeño foto tamaño si largo aunque calidad parece mejor grande precio tal cierre \n",
      "REPRESENTATIVE COMMENTS\n",
      "* Mas pequeños de lo que esperaba.\n",
      "* Demasiado pequeños, en la foto parecían mas grandes\n",
      "* Mas pequeños de lo que imaginaba pero son bonitos y comodos. El cierre es un poco complicado pero parece seguro.\n",
      "\n",
      "\n",
      "Cluster 6\n",
      "COUNT  90 comments (9.00% of the data)\n",
      "TERMS  calidad buena bastante mala regalo pulsera bien demasiado precio compra cierre color botones cadena buen ve parece poca gustado piel \n",
      "REPRESENTATIVE COMMENTS\n",
      "* Calidad precio buena\n",
      "* Calidad precio muy buena\n",
      "* Calidad precio buena\n",
      "\n",
      "\n",
      "Cluster 7\n",
      "COUNT  60 comments (6.00% of the data)\n",
      "TERMS  precio calidad buena bien pedir puede buen relación bueno producto fina cumple recomendable foto regalo genial bonitos relacion demasiado magnífico \n",
      "REPRESENTATIVE COMMENTS\n",
      "* Esta bien calidad precio\n",
      "* Calidad precio muy buena\n",
      "* Calidad precio buena\n",
      "\n",
      "\n"
     ]
    }
   ],
   "source": [
    "data['cluster'] = model.labels_\n",
    "clust_cnt = data['cluster'].value_counts()\n",
    "clust_cnt_pct = data['cluster'].value_counts(normalize=True)\n",
    "\n",
    "#print(f\"{color.BOLD}CLUSTERS:\\n{color.END}\")\n",
    "centroids = model.cluster_centers_\n",
    "order_centroids = model.cluster_centers_.argsort()[:, ::-1]\n",
    "terms = tfidf_vect.get_feature_names()\n",
    "\n",
    "for i in range(k):\n",
    "    print(f\"Cluster {i}\")\n",
    "    print(f\"COUNT  {clust_cnt[i]} comments ({clust_cnt_pct[i]:.2%} of the data)\")\n",
    "    print(f\"TERMS \", end=\" \")\n",
    "    for ind in order_centroids[i, :20]:\n",
    "        print(f'{terms[ind]}', end=\" \"),\n",
    "    print(f\"\\nREPRESENTATIVE COMMENTS\")\n",
    "    for comment in data.iloc[nbrs.kneighbors([centroids[i]])[1][0]]['review_body'].values:\n",
    "        print(f\"* {comment}\")\n",
    "    print(\"\\n\")"
   ]
  },
  {
   "cell_type": "markdown",
   "metadata": {},
   "source": [
    "###  `[BONUS: 3 pts]` Visualización usando PCA"
   ]
  },
  {
   "cell_type": "markdown",
   "metadata": {},
   "source": [
    "# Parte 3: Comparación"
   ]
  },
  {
   "cell_type": "markdown",
   "metadata": {},
   "source": [
    "### `[6 pts]` Punto 1: Hacer predicción para estas dos frases de los dos modelos"
   ]
  },
  {
   "cell_type": "code",
   "execution_count": 58,
   "metadata": {},
   "outputs": [
    {
     "data": {
      "text/plain": [
       "array([1, 6])"
      ]
     },
     "execution_count": 58,
     "metadata": {},
     "output_type": "execute_result"
    }
   ],
   "source": [
    "test = [\"Necesitas el juego inicial para eso\", \"Preciosos estos aretes, buena calidad\"]\n",
    "# transformar con tfidf usado para clasificación\n",
    "nuevo_trans = tfidf_vect.transform(test)\n",
    "# transformar con tfidf usado para agrupación\n",
    "\n",
    "# resultado para clasificación\n",
    "model.predict(nuevo_trans)\n",
    "# resultado para agrupación"
   ]
  },
  {
   "cell_type": "markdown",
   "metadata": {},
   "source": [
    "### `[2 pts]` Punto 2: Preguntas\n",
    "\n",
    "- ¿A cuál modelo le fue mejor? \n",
    "- ¿Cuál modelo se demoró más en entrenar? \n",
    "- Según los resultados del $K$-Means, ¿cuál es la estructura latente de los datos?\n",
    "- ¿Alguna otra observación?"
   ]
  }
 ],
 "metadata": {
  "kernelspec": {
   "display_name": "Python 3",
   "language": "python",
   "name": "python3"
  },
  "language_info": {
   "codemirror_mode": {
    "name": "ipython",
    "version": 3
   },
   "file_extension": ".py",
   "mimetype": "text/x-python",
   "name": "python",
   "nbconvert_exporter": "python",
   "pygments_lexer": "ipython3",
   "version": "3.7.4"
  }
 },
 "nbformat": 4,
 "nbformat_minor": 2
}
